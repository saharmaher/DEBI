{
 "cells": [
  {
   "cell_type": "markdown",
   "id": "5651fcd1",
   "metadata": {},
   "source": [
    "## Name : SAHAR MAHER"
   ]
  },
  {
   "cell_type": "markdown",
   "id": "7835d05f",
   "metadata": {},
   "source": [
    "1- you should submit at least two experiments with different models (Linear Regression, Lasso , Ridge and SGR regressor).\n",
    "\n",
    "2- you should also add the normality checks (QQ-plot / Shapiro wilk test).\n",
    "3- you should also use the Sklearn pipeline  with all the preprocessing steps including the outlier removal , normalization and any other preprocessing you think it will be needed."
   ]
  },
  {
   "cell_type": "code",
   "execution_count": 52,
   "id": "f522ca08",
   "metadata": {},
   "outputs": [],
   "source": [
    "import pandas as pd\n",
    "import numpy as np\n",
    "import matplotlib.pyplot as plt\n",
    "from sklearn.model_selection import train_test_split\n",
    "from sklearn.linear_model import LinearRegression, Ridge, Lasso\n",
    "from sklearn.pipeline import Pipeline\n",
    "from sklearn.compose import ColumnTransformer\n",
    "from sklearn.preprocessing import StandardScaler, OneHotEncoder\n",
    "from sklearn.metrics import mean_squared_error, r2_score\n",
    "from sklearn.impute import SimpleImputer\n",
    "from scipy.stats import shapiro, probplot"
   ]
  },
  {
   "cell_type": "code",
   "execution_count": 53,
   "id": "f197ca48",
   "metadata": {},
   "outputs": [
    {
     "name": "stderr",
     "output_type": "stream",
     "text": [
      "C:\\Users\\DELL\\AppData\\Local\\Temp\\ipykernel_5016\\2334766414.py:1: DtypeWarning: Columns (10,11,12) have mixed types. Specify dtype option on import or set low_memory=False.\n",
      "  data=pd.read_csv('20to22NYC.csv')\n"
     ]
    },
    {
     "data": {
      "text/html": [
       "<div>\n",
       "<style scoped>\n",
       "    .dataframe tbody tr th:only-of-type {\n",
       "        vertical-align: middle;\n",
       "    }\n",
       "\n",
       "    .dataframe tbody tr th {\n",
       "        vertical-align: top;\n",
       "    }\n",
       "\n",
       "    .dataframe thead th {\n",
       "        text-align: right;\n",
       "    }\n",
       "</style>\n",
       "<table border=\"1\" class=\"dataframe\">\n",
       "  <thead>\n",
       "    <tr style=\"text-align: right;\">\n",
       "      <th></th>\n",
       "      <th>BOROUGH</th>\n",
       "      <th>NEIGHBORHOOD</th>\n",
       "      <th>BUILDING CLASS CATEGORY</th>\n",
       "      <th>TAX CLASS AT PRESENT</th>\n",
       "      <th>BLOCK</th>\n",
       "      <th>LOT</th>\n",
       "      <th>BUILDING CLASS AT PRESENT</th>\n",
       "      <th>ADDRESS</th>\n",
       "      <th>APARTMENT NUMBER</th>\n",
       "      <th>ZIP CODE</th>\n",
       "      <th>RESIDENTIAL UNITS</th>\n",
       "      <th>COMMERCIAL UNITS</th>\n",
       "      <th>TOTAL UNITS</th>\n",
       "      <th>LAND SQUARE FEET</th>\n",
       "      <th>GROSS SQUARE FEET</th>\n",
       "      <th>YEAR BUILT</th>\n",
       "      <th>TAX CLASS AT TIME OF SALE</th>\n",
       "      <th>BUILDING CLASS AT TIME OF SALE</th>\n",
       "      <th>SALE PRICE</th>\n",
       "      <th>SALE DATE</th>\n",
       "    </tr>\n",
       "  </thead>\n",
       "  <tbody>\n",
       "    <tr>\n",
       "      <th>0</th>\n",
       "      <td>5</td>\n",
       "      <td>ANNADALE</td>\n",
       "      <td>01 ONE FAMILY DWELLINGS</td>\n",
       "      <td>1</td>\n",
       "      <td>5391</td>\n",
       "      <td>9</td>\n",
       "      <td>A5</td>\n",
       "      <td>4726 AMBOY ROAD</td>\n",
       "      <td>NaN</td>\n",
       "      <td>10312.0</td>\n",
       "      <td>1.0</td>\n",
       "      <td>0.0</td>\n",
       "      <td>1.0</td>\n",
       "      <td>3067.0</td>\n",
       "      <td>910.0</td>\n",
       "      <td>2002.0</td>\n",
       "      <td>1</td>\n",
       "      <td>A5</td>\n",
       "      <td>0.0</td>\n",
       "      <td>2020-07-02</td>\n",
       "    </tr>\n",
       "    <tr>\n",
       "      <th>1</th>\n",
       "      <td>5</td>\n",
       "      <td>ANNADALE</td>\n",
       "      <td>01 ONE FAMILY DWELLINGS</td>\n",
       "      <td>1</td>\n",
       "      <td>5404</td>\n",
       "      <td>46</td>\n",
       "      <td>A1</td>\n",
       "      <td>119 LENZIE STREET</td>\n",
       "      <td>NaN</td>\n",
       "      <td>10312.0</td>\n",
       "      <td>1.0</td>\n",
       "      <td>0.0</td>\n",
       "      <td>1.0</td>\n",
       "      <td>8000.0</td>\n",
       "      <td>3660.0</td>\n",
       "      <td>1998.0</td>\n",
       "      <td>1</td>\n",
       "      <td>A1</td>\n",
       "      <td>315000.0</td>\n",
       "      <td>2020-10-02</td>\n",
       "    </tr>\n",
       "    <tr>\n",
       "      <th>2</th>\n",
       "      <td>5</td>\n",
       "      <td>ANNADALE</td>\n",
       "      <td>01 ONE FAMILY DWELLINGS</td>\n",
       "      <td>1</td>\n",
       "      <td>5407</td>\n",
       "      <td>6</td>\n",
       "      <td>A1</td>\n",
       "      <td>118 ELMBANK STREET</td>\n",
       "      <td>NaN</td>\n",
       "      <td>10312.0</td>\n",
       "      <td>1.0</td>\n",
       "      <td>0.0</td>\n",
       "      <td>1.0</td>\n",
       "      <td>6200.0</td>\n",
       "      <td>2580.0</td>\n",
       "      <td>1975.0</td>\n",
       "      <td>1</td>\n",
       "      <td>A1</td>\n",
       "      <td>450000.0</td>\n",
       "      <td>2020-06-24</td>\n",
       "    </tr>\n",
       "    <tr>\n",
       "      <th>3</th>\n",
       "      <td>5</td>\n",
       "      <td>ANNADALE</td>\n",
       "      <td>01 ONE FAMILY DWELLINGS</td>\n",
       "      <td>1</td>\n",
       "      <td>5425</td>\n",
       "      <td>31</td>\n",
       "      <td>A1</td>\n",
       "      <td>7 SANDGAP STREET</td>\n",
       "      <td>NaN</td>\n",
       "      <td>10312.0</td>\n",
       "      <td>1.0</td>\n",
       "      <td>0.0</td>\n",
       "      <td>1.0</td>\n",
       "      <td>2500.0</td>\n",
       "      <td>1222.0</td>\n",
       "      <td>1925.0</td>\n",
       "      <td>1</td>\n",
       "      <td>A2</td>\n",
       "      <td>525000.0</td>\n",
       "      <td>2020-07-02</td>\n",
       "    </tr>\n",
       "    <tr>\n",
       "      <th>4</th>\n",
       "      <td>5</td>\n",
       "      <td>ANNADALE</td>\n",
       "      <td>01 ONE FAMILY DWELLINGS</td>\n",
       "      <td>1</td>\n",
       "      <td>6205</td>\n",
       "      <td>17</td>\n",
       "      <td>A5</td>\n",
       "      <td>91 EAGAN AVENUE</td>\n",
       "      <td>NaN</td>\n",
       "      <td>10312.0</td>\n",
       "      <td>1.0</td>\n",
       "      <td>0.0</td>\n",
       "      <td>1.0</td>\n",
       "      <td>1845.0</td>\n",
       "      <td>1854.0</td>\n",
       "      <td>1986.0</td>\n",
       "      <td>1</td>\n",
       "      <td>A5</td>\n",
       "      <td>480000.0</td>\n",
       "      <td>2020-01-14</td>\n",
       "    </tr>\n",
       "  </tbody>\n",
       "</table>\n",
       "</div>"
      ],
      "text/plain": [
       "   BOROUGH NEIGHBORHOOD  BUILDING CLASS CATEGORY TAX CLASS AT PRESENT  BLOCK  \\\n",
       "0        5     ANNADALE  01 ONE FAMILY DWELLINGS                    1   5391   \n",
       "1        5     ANNADALE  01 ONE FAMILY DWELLINGS                    1   5404   \n",
       "2        5     ANNADALE  01 ONE FAMILY DWELLINGS                    1   5407   \n",
       "3        5     ANNADALE  01 ONE FAMILY DWELLINGS                    1   5425   \n",
       "4        5     ANNADALE  01 ONE FAMILY DWELLINGS                    1   6205   \n",
       "\n",
       "   LOT BUILDING CLASS AT PRESENT             ADDRESS APARTMENT NUMBER  \\\n",
       "0    9                        A5     4726 AMBOY ROAD              NaN   \n",
       "1   46                        A1   119 LENZIE STREET              NaN   \n",
       "2    6                        A1  118 ELMBANK STREET              NaN   \n",
       "3   31                        A1    7 SANDGAP STREET              NaN   \n",
       "4   17                        A5     91 EAGAN AVENUE              NaN   \n",
       "\n",
       "   ZIP CODE RESIDENTIAL UNITS COMMERCIAL UNITS TOTAL UNITS  LAND SQUARE FEET  \\\n",
       "0   10312.0               1.0              0.0         1.0            3067.0   \n",
       "1   10312.0               1.0              0.0         1.0            8000.0   \n",
       "2   10312.0               1.0              0.0         1.0            6200.0   \n",
       "3   10312.0               1.0              0.0         1.0            2500.0   \n",
       "4   10312.0               1.0              0.0         1.0            1845.0   \n",
       "\n",
       "   GROSS SQUARE FEET  YEAR BUILT  TAX CLASS AT TIME OF SALE  \\\n",
       "0              910.0      2002.0                          1   \n",
       "1             3660.0      1998.0                          1   \n",
       "2             2580.0      1975.0                          1   \n",
       "3             1222.0      1925.0                          1   \n",
       "4             1854.0      1986.0                          1   \n",
       "\n",
       "  BUILDING CLASS AT TIME OF SALE  SALE PRICE   SALE DATE  \n",
       "0                             A5         0.0  2020-07-02  \n",
       "1                             A1    315000.0  2020-10-02  \n",
       "2                             A1    450000.0  2020-06-24  \n",
       "3                             A2    525000.0  2020-07-02  \n",
       "4                             A5    480000.0  2020-01-14  "
      ]
     },
     "execution_count": 53,
     "metadata": {},
     "output_type": "execute_result"
    }
   ],
   "source": [
    "data=pd.read_csv('20to22NYC.csv')\n",
    "data.head()"
   ]
  },
  {
   "cell_type": "code",
   "execution_count": 54,
   "id": "a528f63a",
   "metadata": {},
   "outputs": [],
   "source": [
    "# Data Cleaning\n",
    "# Drop rows where SALE PRICE is zero or missing\n",
    "data = data[data[\"SALE PRICE\"] > 0].dropna(subset=[\"SALE PRICE\"])"
   ]
  },
  {
   "cell_type": "code",
   "execution_count": 55,
   "id": "00dcbaf4",
   "metadata": {},
   "outputs": [],
   "source": [
    "# Convert columns with mixed types to numeric\n",
    "columns_to_clean = [\"RESIDENTIAL UNITS\", \"COMMERCIAL UNITS\", \"TOTAL UNITS\"]\n",
    "for col in columns_to_clean:\n",
    "    data[col] = pd.to_numeric(data[col], errors='coerce')"
   ]
  },
  {
   "cell_type": "code",
   "execution_count": null,
   "id": "7cd4120e",
   "metadata": {},
   "outputs": [],
   "source": []
  },
  {
   "cell_type": "code",
   "execution_count": 56,
   "id": "2b3d723e",
   "metadata": {},
   "outputs": [
    {
     "data": {
      "text/html": [
       "<div>\n",
       "<style scoped>\n",
       "    .dataframe tbody tr th:only-of-type {\n",
       "        vertical-align: middle;\n",
       "    }\n",
       "\n",
       "    .dataframe tbody tr th {\n",
       "        vertical-align: top;\n",
       "    }\n",
       "\n",
       "    .dataframe thead th {\n",
       "        text-align: right;\n",
       "    }\n",
       "</style>\n",
       "<table border=\"1\" class=\"dataframe\">\n",
       "  <thead>\n",
       "    <tr style=\"text-align: right;\">\n",
       "      <th></th>\n",
       "      <th>BOROUGH</th>\n",
       "      <th>NEIGHBORHOOD</th>\n",
       "      <th>BUILDING CLASS CATEGORY</th>\n",
       "      <th>TAX CLASS AT PRESENT</th>\n",
       "      <th>BLOCK</th>\n",
       "      <th>LOT</th>\n",
       "      <th>BUILDING CLASS AT PRESENT</th>\n",
       "      <th>ADDRESS</th>\n",
       "      <th>APARTMENT NUMBER</th>\n",
       "      <th>ZIP CODE</th>\n",
       "      <th>RESIDENTIAL UNITS</th>\n",
       "      <th>COMMERCIAL UNITS</th>\n",
       "      <th>TOTAL UNITS</th>\n",
       "      <th>LAND SQUARE FEET</th>\n",
       "      <th>GROSS SQUARE FEET</th>\n",
       "      <th>YEAR BUILT</th>\n",
       "      <th>TAX CLASS AT TIME OF SALE</th>\n",
       "      <th>BUILDING CLASS AT TIME OF SALE</th>\n",
       "      <th>SALE PRICE</th>\n",
       "      <th>SALE DATE</th>\n",
       "    </tr>\n",
       "  </thead>\n",
       "  <tbody>\n",
       "    <tr>\n",
       "      <th>1</th>\n",
       "      <td>5</td>\n",
       "      <td>ANNADALE</td>\n",
       "      <td>01 ONE FAMILY DWELLINGS</td>\n",
       "      <td>1</td>\n",
       "      <td>5404</td>\n",
       "      <td>46</td>\n",
       "      <td>A1</td>\n",
       "      <td>119 LENZIE STREET</td>\n",
       "      <td>NaN</td>\n",
       "      <td>10312.0</td>\n",
       "      <td>1.0</td>\n",
       "      <td>0.0</td>\n",
       "      <td>1.0</td>\n",
       "      <td>8000.0</td>\n",
       "      <td>3660.0</td>\n",
       "      <td>1998.0</td>\n",
       "      <td>1</td>\n",
       "      <td>A1</td>\n",
       "      <td>315000.0</td>\n",
       "      <td>2020-10-02</td>\n",
       "    </tr>\n",
       "    <tr>\n",
       "      <th>2</th>\n",
       "      <td>5</td>\n",
       "      <td>ANNADALE</td>\n",
       "      <td>01 ONE FAMILY DWELLINGS</td>\n",
       "      <td>1</td>\n",
       "      <td>5407</td>\n",
       "      <td>6</td>\n",
       "      <td>A1</td>\n",
       "      <td>118 ELMBANK STREET</td>\n",
       "      <td>NaN</td>\n",
       "      <td>10312.0</td>\n",
       "      <td>1.0</td>\n",
       "      <td>0.0</td>\n",
       "      <td>1.0</td>\n",
       "      <td>6200.0</td>\n",
       "      <td>2580.0</td>\n",
       "      <td>1975.0</td>\n",
       "      <td>1</td>\n",
       "      <td>A1</td>\n",
       "      <td>450000.0</td>\n",
       "      <td>2020-06-24</td>\n",
       "    </tr>\n",
       "    <tr>\n",
       "      <th>3</th>\n",
       "      <td>5</td>\n",
       "      <td>ANNADALE</td>\n",
       "      <td>01 ONE FAMILY DWELLINGS</td>\n",
       "      <td>1</td>\n",
       "      <td>5425</td>\n",
       "      <td>31</td>\n",
       "      <td>A1</td>\n",
       "      <td>7 SANDGAP STREET</td>\n",
       "      <td>NaN</td>\n",
       "      <td>10312.0</td>\n",
       "      <td>1.0</td>\n",
       "      <td>0.0</td>\n",
       "      <td>1.0</td>\n",
       "      <td>2500.0</td>\n",
       "      <td>1222.0</td>\n",
       "      <td>1925.0</td>\n",
       "      <td>1</td>\n",
       "      <td>A2</td>\n",
       "      <td>525000.0</td>\n",
       "      <td>2020-07-02</td>\n",
       "    </tr>\n",
       "    <tr>\n",
       "      <th>4</th>\n",
       "      <td>5</td>\n",
       "      <td>ANNADALE</td>\n",
       "      <td>01 ONE FAMILY DWELLINGS</td>\n",
       "      <td>1</td>\n",
       "      <td>6205</td>\n",
       "      <td>17</td>\n",
       "      <td>A5</td>\n",
       "      <td>91 EAGAN AVENUE</td>\n",
       "      <td>NaN</td>\n",
       "      <td>10312.0</td>\n",
       "      <td>1.0</td>\n",
       "      <td>0.0</td>\n",
       "      <td>1.0</td>\n",
       "      <td>1845.0</td>\n",
       "      <td>1854.0</td>\n",
       "      <td>1986.0</td>\n",
       "      <td>1</td>\n",
       "      <td>A5</td>\n",
       "      <td>480000.0</td>\n",
       "      <td>2020-01-14</td>\n",
       "    </tr>\n",
       "    <tr>\n",
       "      <th>5</th>\n",
       "      <td>5</td>\n",
       "      <td>ANNADALE</td>\n",
       "      <td>01 ONE FAMILY DWELLINGS</td>\n",
       "      <td>1</td>\n",
       "      <td>6205</td>\n",
       "      <td>83</td>\n",
       "      <td>A1</td>\n",
       "      <td>7 SEGUINE PLACE</td>\n",
       "      <td>NaN</td>\n",
       "      <td>10312.0</td>\n",
       "      <td>1.0</td>\n",
       "      <td>0.0</td>\n",
       "      <td>1.0</td>\n",
       "      <td>3989.0</td>\n",
       "      <td>2300.0</td>\n",
       "      <td>2004.0</td>\n",
       "      <td>1</td>\n",
       "      <td>A1</td>\n",
       "      <td>720000.0</td>\n",
       "      <td>2020-10-15</td>\n",
       "    </tr>\n",
       "  </tbody>\n",
       "</table>\n",
       "</div>"
      ],
      "text/plain": [
       "   BOROUGH NEIGHBORHOOD  BUILDING CLASS CATEGORY TAX CLASS AT PRESENT  BLOCK  \\\n",
       "1        5     ANNADALE  01 ONE FAMILY DWELLINGS                    1   5404   \n",
       "2        5     ANNADALE  01 ONE FAMILY DWELLINGS                    1   5407   \n",
       "3        5     ANNADALE  01 ONE FAMILY DWELLINGS                    1   5425   \n",
       "4        5     ANNADALE  01 ONE FAMILY DWELLINGS                    1   6205   \n",
       "5        5     ANNADALE  01 ONE FAMILY DWELLINGS                    1   6205   \n",
       "\n",
       "   LOT BUILDING CLASS AT PRESENT             ADDRESS APARTMENT NUMBER  \\\n",
       "1   46                        A1   119 LENZIE STREET              NaN   \n",
       "2    6                        A1  118 ELMBANK STREET              NaN   \n",
       "3   31                        A1    7 SANDGAP STREET              NaN   \n",
       "4   17                        A5     91 EAGAN AVENUE              NaN   \n",
       "5   83                        A1     7 SEGUINE PLACE              NaN   \n",
       "\n",
       "   ZIP CODE  RESIDENTIAL UNITS  COMMERCIAL UNITS  TOTAL UNITS  \\\n",
       "1   10312.0                1.0               0.0          1.0   \n",
       "2   10312.0                1.0               0.0          1.0   \n",
       "3   10312.0                1.0               0.0          1.0   \n",
       "4   10312.0                1.0               0.0          1.0   \n",
       "5   10312.0                1.0               0.0          1.0   \n",
       "\n",
       "   LAND SQUARE FEET  GROSS SQUARE FEET  YEAR BUILT  TAX CLASS AT TIME OF SALE  \\\n",
       "1            8000.0             3660.0      1998.0                          1   \n",
       "2            6200.0             2580.0      1975.0                          1   \n",
       "3            2500.0             1222.0      1925.0                          1   \n",
       "4            1845.0             1854.0      1986.0                          1   \n",
       "5            3989.0             2300.0      2004.0                          1   \n",
       "\n",
       "  BUILDING CLASS AT TIME OF SALE  SALE PRICE   SALE DATE  \n",
       "1                             A1    315000.0  2020-10-02  \n",
       "2                             A1    450000.0  2020-06-24  \n",
       "3                             A2    525000.0  2020-07-02  \n",
       "4                             A5    480000.0  2020-01-14  \n",
       "5                             A1    720000.0  2020-10-15  "
      ]
     },
     "execution_count": 56,
     "metadata": {},
     "output_type": "execute_result"
    }
   ],
   "source": [
    "data.head()"
   ]
  },
  {
   "cell_type": "code",
   "execution_count": 57,
   "id": "14d6cd5a",
   "metadata": {},
   "outputs": [],
   "source": [
    "# Fill missing numerical values with median\n",
    "numeric_cols = [\"LAND SQUARE FEET\", \"GROSS SQUARE FEET\", \"YEAR BUILT\"]\n",
    "for col in numeric_cols:\n",
    "    data[col].fillna(data[col].median(), inplace=True)"
   ]
  },
  {
   "cell_type": "code",
   "execution_count": 58,
   "id": "eb856f75",
   "metadata": {},
   "outputs": [],
   "source": [
    "# Drop unnecessary columns\n",
    "columns_to_drop = [\"APARTMENT NUMBER\", \"ADDRESS\", \"SALE DATE\"]\n",
    "data = data.drop(columns=columns_to_drop)"
   ]
  },
  {
   "cell_type": "code",
   "execution_count": 59,
   "id": "913413ef",
   "metadata": {},
   "outputs": [
    {
     "name": "stderr",
     "output_type": "stream",
     "text": [
      "C:\\Users\\DELL\\Anaconda3\\lib\\site-packages\\seaborn\\_decorators.py:36: FutureWarning: Pass the following variable as a keyword arg: x. From version 0.12, the only valid positional argument will be `data`, and passing other arguments without an explicit keyword will result in an error or misinterpretation.\n",
      "  warnings.warn(\n"
     ]
    },
    {
     "data": {
      "text/plain": [
       "<Axes: xlabel='SALE PRICE'>"
      ]
     },
     "execution_count": 59,
     "metadata": {},
     "output_type": "execute_result"
    },
    {
     "data": {
      "image/png": "[encoded data removed]",
      "text/plain": [
       "<Figure size 432x288 with 1 Axes>"
      ]
     },
     "metadata": {
      "needs_background": "light"
     },
     "output_type": "display_data"
    }
   ],
   "source": [
    "import seaborn as sns\n",
    "sns.boxplot(data['SALE PRICE'])"
   ]
  },
  {
   "cell_type": "code",
   "execution_count": 60,
   "id": "81dfe94d",
   "metadata": {},
   "outputs": [
    {
     "data": {
      "image/png": "[encoded data removed]",
      "text/plain": [
       "<Figure size 576x432 with 1 Axes>"
      ]
     },
     "metadata": {
      "needs_background": "light"
     },
     "output_type": "display_data"
    },
    {
     "name": "stdout",
     "output_type": "stream",
     "text": [
      "Shapiro-Wilk Test (Log-Transformed): Statistic=0.6012, p-value=0.0000\n",
      "Original Data Size: 183565, Filtered Data Size: 168599\n"
     ]
    },
    {
     "name": "stderr",
     "output_type": "stream",
     "text": [
      "C:\\Users\\DELL\\AppData\\Local\\Temp\\ipykernel_5016\\2954196243.py:11: UserWarning: scipy.stats.shapiro: For N > 5000, computed p-value may not be accurate. Current N is 183565.\n",
      "  stat, p_value = shapiro(data[\"LOG_SALE_PRICE\"])\n"
     ]
    }
   ],
   "source": [
    "# Log-transform the SALE PRICE to reduce skewness\n",
    "data[\"LOG_SALE_PRICE\"] = np.log1p(data[\"SALE PRICE\"])  # log1p handles log(0) safely\n",
    "\n",
    "# QQ-plot for transformed data\n",
    "plt.figure(figsize=(8, 6))\n",
    "probplot(data[\"LOG_SALE_PRICE\"], dist=\"norm\", plot=plt)\n",
    "plt.title(\"QQ-Plot for Log-Transformed SALE PRICE\")\n",
    "plt.show()\n",
    "\n",
    "# Shapiro-Wilk Test for transformed data\n",
    "stat, p_value = shapiro(data[\"LOG_SALE_PRICE\"])\n",
    "print(f\"Shapiro-Wilk Test (Log-Transformed): Statistic={stat:.4f}, p-value={p_value:.4f}\")\n",
    "\n",
    "# Optionally, outlier removal using IQR\n",
    "Q1 = data[\"LOG_SALE_PRICE\"].quantile(0.25)\n",
    "Q3 = data[\"LOG_SALE_PRICE\"].quantile(0.75)\n",
    "IQR = Q3 - Q1\n",
    "lower_bound = Q1 - 1.5 * IQR\n",
    "upper_bound = Q3 + 1.5 * IQR\n",
    "\n",
    "# Filter out outliers\n",
    "filtered_data = data[(data[\"LOG_SALE_PRICE\"] >= lower_bound) & (data[\"LOG_SALE_PRICE\"] <= upper_bound)]\n",
    "print(f\"Original Data Size: {len(data)}, Filtered Data Size: {len(filtered_data)}\")\n"
   ]
  },
  {
   "cell_type": "code",
   "execution_count": 61,
   "id": "a307e58c",
   "metadata": {},
   "outputs": [],
   "source": [
    "# Define target and features\n",
    "X = filtered_data.drop(columns=[\"SALE PRICE\", \"LOG_SALE_PRICE\"], errors='ignore')  # Features\n",
    "y = filtered_data[\"LOG_SALE_PRICE\"]  # Target\n"
   ]
  },
  {
   "cell_type": "code",
   "execution_count": 62,
   "id": "1bff6b70",
   "metadata": {},
   "outputs": [],
   "source": [
    "# Train-test split\n",
    "X_train, X_test, y_train, y_test = train_test_split(X, y, test_size=0.2, random_state=42)\n"
   ]
  },
  {
   "cell_type": "code",
   "execution_count": 63,
   "id": "360578ac",
   "metadata": {},
   "outputs": [],
   "source": [
    "# Define numerical and categorical columns\n",
    "numeric_features = [\"LAND SQUARE FEET\", \"GROSS SQUARE FEET\", \"YEAR BUILT\"]\n",
    "categorical_features = [\"BOROUGH\", \"NEIGHBORHOOD\", \"BUILDING CLASS CATEGORY\"]\n"
   ]
  },
  {
   "cell_type": "code",
   "execution_count": 64,
   "id": "c149878c",
   "metadata": {},
   "outputs": [],
   "source": [
    "# Preprocessors\n",
    "numeric_transformer = Pipeline(steps=[\n",
    "    (\"imputer\", SimpleImputer(strategy=\"median\")),\n",
    "    (\"scaler\", StandardScaler())\n",
    "])\n",
    "\n",
    "categorical_transformer = Pipeline(steps=[\n",
    "    (\"imputer\", SimpleImputer(strategy=\"most_frequent\")),\n",
    "    (\"onehot\", OneHotEncoder(handle_unknown=\"ignore\"))\n",
    "])\n"
   ]
  },
  {
   "cell_type": "code",
   "execution_count": 65,
   "id": "7e54b9f9",
   "metadata": {},
   "outputs": [],
   "source": [
    "# Combine preprocessors in a column transformer\n",
    "preprocessor = ColumnTransformer(\n",
    "    transformers=[\n",
    "        (\"num\", numeric_transformer, numeric_features),\n",
    "        (\"cat\", categorical_transformer, categorical_features)\n",
    "    ]\n",
    ")\n"
   ]
  },
  {
   "cell_type": "code",
   "execution_count": 66,
   "id": "b89dfcca",
   "metadata": {},
   "outputs": [],
   "source": [
    "# Define models\n",
    "models = {\n",
    "    \"Linear Regression\": LinearRegression(),\n",
    "    \"Ridge Regression\": Ridge(alpha=1.0),\n",
    "    \"Lasso Regression\": Lasso(alpha=0.1)\n",
    "}\n"
   ]
  },
  {
   "cell_type": "code",
   "execution_count": 67,
   "id": "fdb0d0b9",
   "metadata": {},
   "outputs": [],
   "source": [
    "results = {}\n",
    "for name, model in models.items():\n",
    "    # Create pipeline\n",
    "    pipeline = Pipeline(steps=[(\"preprocessor\", preprocessor), (\"model\", model)])\n",
    "    \n",
    "    # Fit the model\n",
    "    pipeline.fit(X_train, y_train)\n",
    "    \n",
    "    # Predictions\n",
    "    y_pred = pipeline.predict(X_test)\n",
    "    \n",
    "    # Metrics\n",
    "    mse = mean_squared_error(y_test, y_pred)\n",
    "    mae = mean_absolute_error(y_test, y_pred)\n",
    "    r2 = r2_score(y_test, y_pred)\n",
    "    results[name] = {\"MSE\": mse,\"MAE\": mae, \"R²\": r2}\n"
   ]
  },
  {
   "cell_type": "code",
   "execution_count": 68,
   "id": "57b65d84",
   "metadata": {},
   "outputs": [
    {
     "data": {
      "image/png": "[encoded data removed]",
      "text/plain": [
       "<Figure size 576x432 with 1 Axes>"
      ]
     },
     "metadata": {
      "needs_background": "light"
     },
     "output_type": "display_data"
    }
   ],
   "source": [
    "# Normality Check on Target Variable\n",
    "plt.figure(figsize=(8, 6))\n",
    "probplot(y, dist=\"norm\", plot=plt)\n",
    "plt.title(\"QQ-Plot for SALE PRICE\")\n",
    "plt.show()"
   ]
  },
  {
   "cell_type": "code",
   "execution_count": 69,
   "id": "e82457cf",
   "metadata": {},
   "outputs": [
    {
     "name": "stdout",
     "output_type": "stream",
     "text": [
      "Shapiro-Wilk Test: Statistic=0.9920, p-value=0.0000\n"
     ]
    },
    {
     "name": "stderr",
     "output_type": "stream",
     "text": [
      "C:\\Users\\DELL\\AppData\\Local\\Temp\\ipykernel_5016\\1000709088.py:1: UserWarning: scipy.stats.shapiro: For N > 5000, computed p-value may not be accurate. Current N is 168599.\n",
      "  stat, p_value = shapiro(y)\n"
     ]
    }
   ],
   "source": [
    "stat, p_value = shapiro(y)\n",
    "print(f\"Shapiro-Wilk Test: Statistic={stat:.4f}, p-value={p_value:.4f}\")\n"
   ]
  },
  {
   "cell_type": "code",
   "execution_count": 71,
   "id": "9418e4e8",
   "metadata": {},
   "outputs": [
    {
     "name": "stdout",
     "output_type": "stream",
     "text": [
      "Linear Regression Results:\n",
      "  MSE: 0.2433\n",
      "  MAE: 0.3541\n",
      "  R2 Score: 0.5306\n",
      "\n",
      "Ridge Regression Results:\n",
      "  MSE: 0.2435\n",
      "  MAE: 0.3543\n",
      "  R2 Score: 0.5302\n",
      "\n",
      "Lasso Regression Results:\n",
      "  MSE: 0.5184\n",
      "  MAE: 0.5581\n",
      "  R2 Score: -0.0000\n",
      "\n"
     ]
    }
   ],
   "source": [
    "for model_name, metrics in results.items():\n",
    "    print(f\"{model_name} Results:\")\n",
    "    print(f\"  MSE: {metrics['MSE']:.4f}\")\n",
    "    print(f\"  MAE: {metrics['MAE']:.4f}\")\n",
    "    print(f\"  R2 Score: {metrics['R²']:.4f}\")\n",
    "    print()"
   ]
  },
  {
   "cell_type": "code",
   "execution_count": null,
   "id": "721e7de1",
   "metadata": {},
   "outputs": [],
   "source": []
  },
  {
   "cell_type": "code",
   "execution_count": null,
   "id": "dacdd773",
   "metadata": {},
   "outputs": [],
   "source": []
  }
 ],
 "metadata": {
  "kernelspec": {
   "display_name": "Python 3 (ipykernel)",
   "language": "python",
   "name": "python3"
  },
  "language_info": {
   "codemirror_mode": {
    "name": "ipython",
    "version": 3
   },
   "file_extension": ".py",
   "mimetype": "text/x-python",
   "name": "python",
   "nbconvert_exporter": "python",
   "pygments_lexer": "ipython3",
   "version": "3.9.12"
  }
 },
 "nbformat": 4,
 "nbformat_minor": 5
}
